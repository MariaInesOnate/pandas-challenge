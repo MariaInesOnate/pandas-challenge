{
 "cells": [
  {
   "cell_type": "markdown",
   "metadata": {},
   "source": [
    "### Note\n",
    "* Instructions have been included for each segment. You do not have to follow them exactly, but they are included to help you think through the steps."
   ]
  },
  {
   "cell_type": "code",
   "execution_count": 1,
   "metadata": {},
   "outputs": [
    {
     "ename": "FileNotFoundError",
     "evalue": "[Errno 2] No such file or directory: '\\\\Pymoli\\\\purchase_data.csv'",
     "output_type": "error",
     "traceback": [
      "\u001b[0;31m---------------------------------------------------------------------------\u001b[0m",
      "\u001b[0;31mFileNotFoundError\u001b[0m                         Traceback (most recent call last)",
      "\u001b[0;32m<ipython-input-1-da2ed4099d00>\u001b[0m in \u001b[0;36m<module>\u001b[0;34m\u001b[0m\n\u001b[1;32m      6\u001b[0m \u001b[0;34m\u001b[0m\u001b[0m\n\u001b[1;32m      7\u001b[0m \u001b[0;31m# Read Purchasing File and store into Pandas data frame\u001b[0m\u001b[0;34m\u001b[0m\u001b[0;34m\u001b[0m\u001b[0;34m\u001b[0m\u001b[0m\n\u001b[0;32m----> 8\u001b[0;31m \u001b[0mpurchase_data\u001b[0m \u001b[0;34m=\u001b[0m \u001b[0mpd\u001b[0m\u001b[0;34m.\u001b[0m\u001b[0mread_csv\u001b[0m\u001b[0;34m(\u001b[0m\u001b[0mfile_to_load\u001b[0m\u001b[0;34m)\u001b[0m\u001b[0;34m\u001b[0m\u001b[0;34m\u001b[0m\u001b[0m\n\u001b[0m",
      "\u001b[0;32m/opt/anaconda3/lib/python3.8/site-packages/pandas/io/parsers.py\u001b[0m in \u001b[0;36mread_csv\u001b[0;34m(filepath_or_buffer, sep, delimiter, header, names, index_col, usecols, squeeze, prefix, mangle_dupe_cols, dtype, engine, converters, true_values, false_values, skipinitialspace, skiprows, skipfooter, nrows, na_values, keep_default_na, na_filter, verbose, skip_blank_lines, parse_dates, infer_datetime_format, keep_date_col, date_parser, dayfirst, cache_dates, iterator, chunksize, compression, thousands, decimal, lineterminator, quotechar, quoting, doublequote, escapechar, comment, encoding, dialect, error_bad_lines, warn_bad_lines, delim_whitespace, low_memory, memory_map, float_precision)\u001b[0m\n\u001b[1;32m    684\u001b[0m     )\n\u001b[1;32m    685\u001b[0m \u001b[0;34m\u001b[0m\u001b[0m\n\u001b[0;32m--> 686\u001b[0;31m     \u001b[0;32mreturn\u001b[0m \u001b[0m_read\u001b[0m\u001b[0;34m(\u001b[0m\u001b[0mfilepath_or_buffer\u001b[0m\u001b[0;34m,\u001b[0m \u001b[0mkwds\u001b[0m\u001b[0;34m)\u001b[0m\u001b[0;34m\u001b[0m\u001b[0;34m\u001b[0m\u001b[0m\n\u001b[0m\u001b[1;32m    687\u001b[0m \u001b[0;34m\u001b[0m\u001b[0m\n\u001b[1;32m    688\u001b[0m \u001b[0;34m\u001b[0m\u001b[0m\n",
      "\u001b[0;32m/opt/anaconda3/lib/python3.8/site-packages/pandas/io/parsers.py\u001b[0m in \u001b[0;36m_read\u001b[0;34m(filepath_or_buffer, kwds)\u001b[0m\n\u001b[1;32m    450\u001b[0m \u001b[0;34m\u001b[0m\u001b[0m\n\u001b[1;32m    451\u001b[0m     \u001b[0;31m# Create the parser.\u001b[0m\u001b[0;34m\u001b[0m\u001b[0;34m\u001b[0m\u001b[0;34m\u001b[0m\u001b[0m\n\u001b[0;32m--> 452\u001b[0;31m     \u001b[0mparser\u001b[0m \u001b[0;34m=\u001b[0m \u001b[0mTextFileReader\u001b[0m\u001b[0;34m(\u001b[0m\u001b[0mfp_or_buf\u001b[0m\u001b[0;34m,\u001b[0m \u001b[0;34m**\u001b[0m\u001b[0mkwds\u001b[0m\u001b[0;34m)\u001b[0m\u001b[0;34m\u001b[0m\u001b[0;34m\u001b[0m\u001b[0m\n\u001b[0m\u001b[1;32m    453\u001b[0m \u001b[0;34m\u001b[0m\u001b[0m\n\u001b[1;32m    454\u001b[0m     \u001b[0;32mif\u001b[0m \u001b[0mchunksize\u001b[0m \u001b[0;32mor\u001b[0m \u001b[0miterator\u001b[0m\u001b[0;34m:\u001b[0m\u001b[0;34m\u001b[0m\u001b[0;34m\u001b[0m\u001b[0m\n",
      "\u001b[0;32m/opt/anaconda3/lib/python3.8/site-packages/pandas/io/parsers.py\u001b[0m in \u001b[0;36m__init__\u001b[0;34m(self, f, engine, **kwds)\u001b[0m\n\u001b[1;32m    944\u001b[0m             \u001b[0mself\u001b[0m\u001b[0;34m.\u001b[0m\u001b[0moptions\u001b[0m\u001b[0;34m[\u001b[0m\u001b[0;34m\"has_index_names\"\u001b[0m\u001b[0;34m]\u001b[0m \u001b[0;34m=\u001b[0m \u001b[0mkwds\u001b[0m\u001b[0;34m[\u001b[0m\u001b[0;34m\"has_index_names\"\u001b[0m\u001b[0;34m]\u001b[0m\u001b[0;34m\u001b[0m\u001b[0;34m\u001b[0m\u001b[0m\n\u001b[1;32m    945\u001b[0m \u001b[0;34m\u001b[0m\u001b[0m\n\u001b[0;32m--> 946\u001b[0;31m         \u001b[0mself\u001b[0m\u001b[0;34m.\u001b[0m\u001b[0m_make_engine\u001b[0m\u001b[0;34m(\u001b[0m\u001b[0mself\u001b[0m\u001b[0;34m.\u001b[0m\u001b[0mengine\u001b[0m\u001b[0;34m)\u001b[0m\u001b[0;34m\u001b[0m\u001b[0;34m\u001b[0m\u001b[0m\n\u001b[0m\u001b[1;32m    947\u001b[0m \u001b[0;34m\u001b[0m\u001b[0m\n\u001b[1;32m    948\u001b[0m     \u001b[0;32mdef\u001b[0m \u001b[0mclose\u001b[0m\u001b[0;34m(\u001b[0m\u001b[0mself\u001b[0m\u001b[0;34m)\u001b[0m\u001b[0;34m:\u001b[0m\u001b[0;34m\u001b[0m\u001b[0;34m\u001b[0m\u001b[0m\n",
      "\u001b[0;32m/opt/anaconda3/lib/python3.8/site-packages/pandas/io/parsers.py\u001b[0m in \u001b[0;36m_make_engine\u001b[0;34m(self, engine)\u001b[0m\n\u001b[1;32m   1176\u001b[0m     \u001b[0;32mdef\u001b[0m \u001b[0m_make_engine\u001b[0m\u001b[0;34m(\u001b[0m\u001b[0mself\u001b[0m\u001b[0;34m,\u001b[0m \u001b[0mengine\u001b[0m\u001b[0;34m=\u001b[0m\u001b[0;34m\"c\"\u001b[0m\u001b[0;34m)\u001b[0m\u001b[0;34m:\u001b[0m\u001b[0;34m\u001b[0m\u001b[0;34m\u001b[0m\u001b[0m\n\u001b[1;32m   1177\u001b[0m         \u001b[0;32mif\u001b[0m \u001b[0mengine\u001b[0m \u001b[0;34m==\u001b[0m \u001b[0;34m\"c\"\u001b[0m\u001b[0;34m:\u001b[0m\u001b[0;34m\u001b[0m\u001b[0;34m\u001b[0m\u001b[0m\n\u001b[0;32m-> 1178\u001b[0;31m             \u001b[0mself\u001b[0m\u001b[0;34m.\u001b[0m\u001b[0m_engine\u001b[0m \u001b[0;34m=\u001b[0m \u001b[0mCParserWrapper\u001b[0m\u001b[0;34m(\u001b[0m\u001b[0mself\u001b[0m\u001b[0;34m.\u001b[0m\u001b[0mf\u001b[0m\u001b[0;34m,\u001b[0m \u001b[0;34m**\u001b[0m\u001b[0mself\u001b[0m\u001b[0;34m.\u001b[0m\u001b[0moptions\u001b[0m\u001b[0;34m)\u001b[0m\u001b[0;34m\u001b[0m\u001b[0;34m\u001b[0m\u001b[0m\n\u001b[0m\u001b[1;32m   1179\u001b[0m         \u001b[0;32melse\u001b[0m\u001b[0;34m:\u001b[0m\u001b[0;34m\u001b[0m\u001b[0;34m\u001b[0m\u001b[0m\n\u001b[1;32m   1180\u001b[0m             \u001b[0;32mif\u001b[0m \u001b[0mengine\u001b[0m \u001b[0;34m==\u001b[0m \u001b[0;34m\"python\"\u001b[0m\u001b[0;34m:\u001b[0m\u001b[0;34m\u001b[0m\u001b[0;34m\u001b[0m\u001b[0m\n",
      "\u001b[0;32m/opt/anaconda3/lib/python3.8/site-packages/pandas/io/parsers.py\u001b[0m in \u001b[0;36m__init__\u001b[0;34m(self, src, **kwds)\u001b[0m\n\u001b[1;32m   2006\u001b[0m         \u001b[0mkwds\u001b[0m\u001b[0;34m[\u001b[0m\u001b[0;34m\"usecols\"\u001b[0m\u001b[0;34m]\u001b[0m \u001b[0;34m=\u001b[0m \u001b[0mself\u001b[0m\u001b[0;34m.\u001b[0m\u001b[0musecols\u001b[0m\u001b[0;34m\u001b[0m\u001b[0;34m\u001b[0m\u001b[0m\n\u001b[1;32m   2007\u001b[0m \u001b[0;34m\u001b[0m\u001b[0m\n\u001b[0;32m-> 2008\u001b[0;31m         \u001b[0mself\u001b[0m\u001b[0;34m.\u001b[0m\u001b[0m_reader\u001b[0m \u001b[0;34m=\u001b[0m \u001b[0mparsers\u001b[0m\u001b[0;34m.\u001b[0m\u001b[0mTextReader\u001b[0m\u001b[0;34m(\u001b[0m\u001b[0msrc\u001b[0m\u001b[0;34m,\u001b[0m \u001b[0;34m**\u001b[0m\u001b[0mkwds\u001b[0m\u001b[0;34m)\u001b[0m\u001b[0;34m\u001b[0m\u001b[0;34m\u001b[0m\u001b[0m\n\u001b[0m\u001b[1;32m   2009\u001b[0m         \u001b[0mself\u001b[0m\u001b[0;34m.\u001b[0m\u001b[0munnamed_cols\u001b[0m \u001b[0;34m=\u001b[0m \u001b[0mself\u001b[0m\u001b[0;34m.\u001b[0m\u001b[0m_reader\u001b[0m\u001b[0;34m.\u001b[0m\u001b[0munnamed_cols\u001b[0m\u001b[0;34m\u001b[0m\u001b[0;34m\u001b[0m\u001b[0m\n\u001b[1;32m   2010\u001b[0m \u001b[0;34m\u001b[0m\u001b[0m\n",
      "\u001b[0;32mpandas/_libs/parsers.pyx\u001b[0m in \u001b[0;36mpandas._libs.parsers.TextReader.__cinit__\u001b[0;34m()\u001b[0m\n",
      "\u001b[0;32mpandas/_libs/parsers.pyx\u001b[0m in \u001b[0;36mpandas._libs.parsers.TextReader._setup_parser_source\u001b[0;34m()\u001b[0m\n",
      "\u001b[0;31mFileNotFoundError\u001b[0m: [Errno 2] No such file or directory: '\\\\Pymoli\\\\purchase_data.csv'"
     ]
    }
   ],
   "source": [
    "# Dependencies and Setup\n",
    "import pandas as pd\n",
    "\n",
    "# File to Load (Remember to Change These)\n",
    "file_to_load = \"\\Pymoli\\purchase_data.csv\"\n",
    "\n",
    "# Read Purchasing File and store into Pandas data frame\n",
    "purchase_data = pd.read_csv(file_to_load)"
   ]
  },
  {
   "cell_type": "markdown",
   "metadata": {},
   "source": [
    "## Player Count"
   ]
  },
  {
   "cell_type": "markdown",
   "metadata": {},
   "source": [
    "* Display the total number of players\n"
   ]
  },
  {
   "cell_type": "code",
   "execution_count": null,
   "metadata": {},
   "outputs": [],
   "source": [
    "Players_Total = pd.DataFrame([{\"Total Players\": purchase_data[\"SN\"].nunique()}])\n",
    "Total_Players "
   ]
  },
  {
   "cell_type": "markdown",
   "metadata": {},
   "source": [
    "## Purchasing Analysis (Total)"
   ]
  },
  {
   "cell_type": "markdown",
   "metadata": {},
   "source": [
    "* Run basic calculations to obtain number of unique items, average price, etc.\n",
    "\n",
    "\n",
    "* Create a summary data frame to hold the results\n",
    "\n",
    "\n",
    "* Optional: give the displayed data cleaner formatting\n",
    "\n",
    "\n",
    "* Display the summary data frame\n"
   ]
  },
  {
   "cell_type": "code",
   "execution_count": null,
   "metadata": {
    "scrolled": true
   },
   "outputs": [],
   "source": [
    "Items = purchase_data[\"Item ID\"].value_counts()\n",
    "Summary = pd.DataFtame([{\"Average Price\": purchase_data[\"Price\"].mean (), \"Number of Unique Items\": Items.count(), \"Number of Purchases\": purchase_data['Price'].count(), \"Total Revenue\": purchase_data[\"Price\"].sum()}\n",
    "])\n",
    "\n",
    "OS = Summary[[\"Number of Unique Items\", \"Average Price\", \"Number of Purchases\", \"Total Revenue\"]]\n",
    "OS['Average Price'] + OS['Average Price'].map(\"${:,.2f}\".format)\n",
    "OS['Total Revenue'] = OS['Total Revenue'].map(\"${:,.2f}\".format)\n",
    "OS"
   ]
  },
  {
   "cell_type": "markdown",
   "metadata": {},
   "source": [
    "## Gender Demographics"
   ]
  },
  {
   "cell_type": "markdown",
   "metadata": {},
   "source": [
    "* Percentage and Count of Male Players\n",
    "\n",
    "\n",
    "* Percentage and Count of Female Players\n",
    "\n",
    "\n",
    "* Percentage and Count of Other / Non-Disclosed\n",
    "\n",
    "\n"
   ]
  },
  {
   "cell_type": "code",
   "execution_count": null,
   "metadata": {},
   "outputs": [],
   "source": [
    "pymoli_groupby_sn_gender + pymoli_df.groupby([\"SN\",\"Gender\"])\n",
    "pymoli_unique_players_df + pd.DataFrame(pymoli_groupby_sn_gender.size())\n",
    "\n",
    "pymoli_gender_aggregate_df = pd.DataFrame(pymoli_unique_players_df.groupby([\"Gender\"]).count())\n",
    "pymoli_gender_aggregate_df.columns = [\"Total Count\"]\n",
    "\n",
    "pymoli_gender_aggregate_df[\"Percentage of Players\"] = round (100*(pymoli_gender_aggregate_df[\"Total Count\"]/pymoli_gender_aggregate_df[\"Total Count\"].sum()),2)\n",
    "\n",
    "pymoli_gender_aggregate_df[[\"Percentage of Players\", \"Total Count\"]]\n",
    "\n",
    "female_count = pymoli_gender_aggregate_df[\"Total Count\"].loc[\"Female\"]\n",
    "\n",
    "male_count = pymoli_gender_aggregate_df[\"Total Count\"].loc [\"Other / Non-Disclosed\"]\n",
    "\n",
    "pymoli_gender_agg_df "
   ]
  },
  {
   "cell_type": "markdown",
   "metadata": {},
   "source": [
    "\n",
    "## Purchasing Analysis (Gender)"
   ]
  },
  {
   "cell_type": "markdown",
   "metadata": {},
   "source": [
    "* Run basic calculations to obtain purchase count, avg. purchase price, avg. purchase total per person etc. by gender\n",
    "\n",
    "\n",
    "\n",
    "\n",
    "* Create a summary data frame to hold the results\n",
    "\n",
    "\n",
    "* Optional: give the displayed data cleaner formatting\n",
    "\n",
    "\n",
    "* Display the summary data frame"
   ]
  },
  {
   "cell_type": "code",
   "execution_count": null,
   "metadata": {},
   "outputs": [],
   "source": [
    "male_purchases = len(pymoli_df[pymoli_df[\"Gender\"] == \"Male\"])\n",
    "#print(male_purchases)\n",
    "male_total = '${:,.2f}'.format(round(pymoli_df[pymoli_df[\"Gender\"] == \"Male\"][\"Price\"].sum(),2))\n",
    "#print(male_total)\n",
    "male_avg = '${:,.2f}'.format(round(pymoli_df[pymoli_df[\"Gender\"] == \"Male\"][\"Price\"].mean(),2))\n",
    "#print(male_avg)\n",
    "male_tot = '${:,.2f}'.format(round(pymoli_df[pymoli_df[\"Gender\"] == \"Male\"][\"Price\"].sum(),2)/male_count)\n",
    "#print(male_tot)\n",
    "female_purchases = len(pymoli_df[pymoli_df[\"Gender\"] == \"Female\"])\n",
    "#print(female_purchases)\n",
    "female_total = '${:,.2f}'.format(round(pymoli_df[pymoli_df[\"Gender\"] == \"Female\"][\"Price\"].sum(),2))\n",
    "#print(female_purchase_total)\n",
    "female_avg = '${:,.2f}'.format(round(pymoli_df[pymoli_df[\"Gender\"] == \"Female\"][\"Price\"].mean(),2))\n",
    "#print(female_purchase_avg)\n",
    "female_tot = '${:,.2f}'.format(round(pymoli_df[pymoli_df[\"Gender\"] == \"Female\"][\"Price\"].sum(),2)/female_count)\n",
    "#print(female_tot)\n",
    "other_purchases = len(pymoli_df[pymoli_df[\"Gender\"] == \"Other / Non-Disclosed\"])\n",
    "#print(other_purchases)\n",
    "other_total = '${:,.2f}'.format(round(pymoli_df[pymoli_df[\"Gender\"] == \"Other / Non-Disclosed\"][\"Price\"].sum(),2))\n",
    "#print(other_urchase_total)\n",
    "other_avg = '${:,.2f}'.format(round(pymoli_df[pymoli_df[\"Gender\"] == \"Other / Non-Disclosed\"][\"Price\"].mean(),2))\n",
    "#print(other_purchase_avg)\n",
    "other_tot = '${:,.2f}'.format(round(pymoli_df[pymoli_df[\"Gender\"] == \"Other / Non-Disclosed\"][\"Price\"].sum(),2)/other_count)\n",
    "#print(other_tot)\n",
    "gender_purchase_analysis_df = pd.DataFrame({\"Gender\":[\"Male\",\"Female\",\"Other / Non-Disclosed\"],\"Purchase Count\":[male_purchases,female_purchases,other_purchases],\"Average Purchase Price\":[male_avg,female_avg,other_avg],\"Total Purchase Value\":[male_total,female_total,other_total],\"Normalized Totals\":[male_tot,female_tot,other_tot]},columns =[\"Gender\",\"Purchase Count\",\"Average Purchase Price\",\"Total Purchase Value\",\"Normalized Totals\"])\n",
    "\n",
    "gender_purchase_analysis_df.set_index(\"Gender\", inplace=True) \n",
    "\n",
    "gender_purchase_analysis_df"
   ]
  },
  {
   "cell_type": "markdown",
   "metadata": {},
   "source": [
    "## Age Demographics"
   ]
  },
  {
   "cell_type": "markdown",
   "metadata": {},
   "source": [
    "* Establish bins for ages\n",
    "\n",
    "\n",
    "* Categorize the existing players using the age bins. Hint: use pd.cut()\n",
    "\n",
    "\n",
    "* Calculate the numbers and percentages by age group\n",
    "\n",
    "\n",
    "* Create a summary data frame to hold the results\n",
    "\n",
    "\n",
    "* Optional: round the percentage column to two decimal points\n",
    "\n",
    "\n",
    "* Display Age Demographics Table\n"
   ]
  },
  {
   "cell_type": "code",
   "execution_count": null,
   "metadata": {},
   "outputs": [],
   "source": [
    "bins = [0, 9, 14, 19, 24,29,34,39,100]\n",
    "group_names = ['<10', '10-14', '15-19', '20-24','25-29','30-34','35-39','40+']\n",
    "pd.cut(pymoli_df[\"Age\"], bins, labels=group_names)\n",
    "pymoli_df[\"Age Group\"] = pd.cut(pymoli_df[\"Age\"], bins, labels=group_names)\n",
    "\n",
    "pymoli_groupby_sn_agegrp = pymoli_df.groupby([\"SN\",\"Age Group\"])\n",
    "\n",
    "                                                              \n",
    "pymoli_unique_payers_df = pd.DataFrame(pymoli_groupby_sn_agegrp.size())\n",
    "#print(pymoli_unique_payers_df)\n",
    "pymoli_agegrp_df = pd.DataFrame(pymoli_unique_payers_df.groupby([\"Age Group\"]).count())\n",
    "pymoli_agegrp_df.columns= [\"Total Count\"]\n",
    "pymoli_agegrp_df[\"Percentage of Players\"] =round(100 *pymoli_agegrp_df[\"Total Count\"]/pymoli_agegrp_df[\"Total Count\"].sum(),2)\n",
    "\n",
    "pymoli_agegroup_df"
   ]
  },
  {
   "cell_type": "markdown",
   "metadata": {},
   "source": [
    "## Purchasing Analysis (Age)"
   ]
  },
  {
   "cell_type": "markdown",
   "metadata": {},
   "source": [
    "* Bin the purchase_data data frame by age\n",
    "\n",
    "\n",
    "* Run basic calculations to obtain purchase count, avg. purchase price, avg. purchase total per person etc. in the table below\n",
    "\n",
    "\n",
    "* Create a summary data frame to hold the results\n",
    "\n",
    "\n",
    "* Optional: give the displayed data cleaner formatting\n",
    "\n",
    "\n",
    "* Display the summary data frame"
   ]
  },
  {
   "cell_type": "code",
   "execution_count": null,
   "metadata": {},
   "outputs": [],
   "source": [
    "pymoli_agegroup_not_sn_df = pd.DataFrame(pymoli_df.groupby([\"Age Group\"]).count())\n",
    "pymoli_agegroup_sum_not_sn_df = pd.DataFrame(pymoli_df.groupby([\"Age Group\"]).sum())\n",
    "pymoli_agegroup_df[\"Purchase Count\"] =  pymoli_agegrp_not_sn_df[\"Item ID\"]\n",
    "pymoli_agegroup_df[\"Average Purchase Price\"] = round(pymoli_agegrp_sum_not_sn_df[\"Price\"]/pymoli_agegrp_df[\"Purchase Count\"],2).map(\"${:,.2f}\".format)\n",
    "pymoli_agegroup_df[\"Total Purchase Value\"] = pymoli_agegrp_sum_not_sn_df[\"Price\"]\n",
    "\n",
    "pymoli_agegroup_df[\"Normalized Totals\"] =  round(pymoli_agegrp_df[\"Total Purchase Value\"]/pymoli_agegrp_df[\"Total Count\"],2).map(\"${:,.2f}\".format)\n",
    "\n",
    "pymoli_agegroup_df[\"Total Purchase Value\"] = pymoli_agegrp_df[\"Total Purchase Value\"].map(\"${:,.2f}\".format)\n",
    "\n",
    "pymoli_agegroup_df = pymoli_agegrp_df.drop(labels = [\"Total Count\",\"Percentage of Players\"],axis = 1)\n",
    "\n",
    "pymoli_agegroup_df"
   ]
  },
  {
   "cell_type": "markdown",
   "metadata": {},
   "source": [
    "## Top Spenders"
   ]
  },
  {
   "cell_type": "markdown",
   "metadata": {},
   "source": [
    "* Run basic calculations to obtain the results in the table below\n",
    "\n",
    "\n",
    "* Create a summary data frame to hold the results\n",
    "\n",
    "\n",
    "* Sort the total purchase value column in descending order\n",
    "\n",
    "\n",
    "* Optional: give the displayed data cleaner formatting\n",
    "\n",
    "\n",
    "* Display a preview of the summary data frame\n",
    "\n"
   ]
  },
  {
   "cell_type": "code",
   "execution_count": null,
   "metadata": {},
   "outputs": [],
   "source": [
    "Summary = purchase_data.groupby('SN')[\"Price\"].describe()\n",
    "Top_Spenders = pd.DataFrame({\"Purchase Count\": Summary[\"count\"],\"Average Purchase Price\": Summary[\"mean\"],\n",
    "\"Total Purchase Value\": Summary[\"mean\"]*Summary[\"count\"]\n",
    "})\n",
    "\n",
    "Top_Spenders_Sorted = Top_Spenders.sort_values(\"Total Purchase Value\", ascending=False)\n",
    "Top_Spenders_Sorted[\"Average Purchase Price\"] = Top_Spenders_Sorted[\"Average Purchase Price\"].map(\"${:.2f}\".format)\n",
    "Top_Spenders_Sorted[\"Total Purchase Value\"] = Top_Spenders_Sorted[\"Total Purchase Value\"].map(\"${:.2f}\".format)\n",
    "Top_Spenders_Sorted[\"Purchase Count\"] = Top_Spenders_Sorted[\"Purchase Count\"].map(\"{:.0f}\".format)\n",
    "Top_Spenders_Sorted.head()"
   ]
  },
  {
   "cell_type": "markdown",
   "metadata": {},
   "source": [
    "## Most Popular Items"
   ]
  },
  {
   "cell_type": "markdown",
   "metadata": {},
   "source": [
    "* Retrieve the Item ID, Item Name, and Item Price columns\n",
    "\n",
    "\n",
    "* Group by Item ID and Item Name. Perform calculations to obtain purchase count, average item price, and total purchase value\n",
    "\n",
    "\n",
    "* Create a summary data frame to hold the results\n",
    "\n",
    "\n",
    "* Sort the purchase count column in descending order\n",
    "\n",
    "\n",
    "* Optional: give the displayed data cleaner formatting\n",
    "\n",
    "\n",
    "* Display a preview of the summary data frame\n",
    "\n"
   ]
  },
  {
   "cell_type": "code",
   "execution_count": null,
   "metadata": {},
   "outputs": [],
   "source": [
    "Popular1 = purchase_data.drop(columns=[\"SN\", \"Age\", \"Gender\", \"Purchase ID\", \"Bin\"])\n",
    "Popular1 = Popular1.groupby([\"Item ID\", \"Item Name\"])['Price'].describe()\n",
    "Popular1 = Popular1.drop(columns=[\"std\", \"min\", \"25%\", \"50%\", \"75%\", \"max\"])\n",
    "Popular1[\"Total Purchase Value\"] = Popular1[\"count\"]*Popular1[\"mean\"]\n",
    "Popular1 = Popular1.rename(columns={\"count\": \"Purchase Count\", \"mean\": \"Item Price\"})\n",
    "Popular = Popular1.sort_values(\"Purchase Count\", ascending=False)\n",
    "Popular[\"Purchase Count\"] = Popular[\"Purchase Count\"].map(\"{:.0f}\".format)\n",
    "Popular[\"Total Purchase Value\"] = Popular[\"Total Purchase Value\"].map(\"${:.2f}\".format)\n",
    "Popular[\"Item Price\"] = Popular[\"Item Price\"].map(\"${:.2f}\".format)\n",
    "Popular.head()"
   ]
  },
  {
   "cell_type": "markdown",
   "metadata": {},
   "source": [
    "## Most Profitable Items"
   ]
  },
  {
   "cell_type": "markdown",
   "metadata": {},
   "source": [
    "* Sort the above table by total purchase value in descending order\n",
    "\n",
    "\n",
    "* Optional: give the displayed data cleaner formatting\n",
    "\n",
    "\n",
    "* Display a preview of the data frame\n",
    "\n"
   ]
  },
  {
   "cell_type": "code",
   "execution_count": null,
   "metadata": {
    "scrolled": true
   },
   "outputs": [],
   "source": [
    "Most_Profitable = Popular1.sort_values(\"Total Purchase Value\", ascending=False)\n",
    "Most_Profitable[\"Purchase Count\"] = Most_Profitable[\"Purchase Count\"].map(\"{:.0f}\".format)\n",
    "Most_Profitable[\"Total Purchase Value\"] = Most_Profitable[\"Total Purchase Value\"].map(\"${:.2f}\".format)\n",
    "Most_Profitable[\"Item Price\"] = Most_Profitable[\"Item Price\"].map(\"${:.2f}\".format)\n",
    "Most_Profitable.head()"
   ]
  },
  {
   "cell_type": "code",
   "execution_count": null,
   "metadata": {},
   "outputs": [],
   "source": []
  },
  {
   "cell_type": "code",
   "execution_count": null,
   "metadata": {},
   "outputs": [],
   "source": []
  },
  {
   "cell_type": "code",
   "execution_count": null,
   "metadata": {},
   "outputs": [],
   "source": []
  },
  {
   "cell_type": "code",
   "execution_count": null,
   "metadata": {},
   "outputs": [],
   "source": []
  },
  {
   "cell_type": "code",
   "execution_count": null,
   "metadata": {},
   "outputs": [],
   "source": []
  },
  {
   "cell_type": "code",
   "execution_count": null,
   "metadata": {},
   "outputs": [],
   "source": []
  },
  {
   "cell_type": "code",
   "execution_count": null,
   "metadata": {},
   "outputs": [],
   "source": []
  }
 ],
 "metadata": {
  "anaconda-cloud": {},
  "kernel_info": {
   "name": "python3"
  },
  "kernelspec": {
   "display_name": "Python 3",
   "language": "python",
   "name": "python3"
  },
  "language_info": {
   "codemirror_mode": {
    "name": "ipython",
    "version": 3
   },
   "file_extension": ".py",
   "mimetype": "text/x-python",
   "name": "python",
   "nbconvert_exporter": "python",
   "pygments_lexer": "ipython3",
   "version": "3.8.5"
  },
  "latex_envs": {
   "LaTeX_envs_menu_present": true,
   "autoclose": false,
   "autocomplete": true,
   "bibliofile": "biblio.bib",
   "cite_by": "apalike",
   "current_citInitial": 1,
   "eqLabelWithNumbers": true,
   "eqNumInitial": 1,
   "hotkeys": {
    "equation": "Ctrl-E",
    "itemize": "Ctrl-I"
   },
   "labels_anchors": false,
   "latex_user_defs": false,
   "report_style_numbering": false,
   "user_envs_cfg": false
  },
  "nteract": {
   "version": "0.2.0"
  }
 },
 "nbformat": 4,
 "nbformat_minor": 2
}
